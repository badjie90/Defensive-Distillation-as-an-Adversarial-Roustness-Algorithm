{
 "cells": [
  {
   "cell_type": "markdown",
   "id": "5420084d-f73e-4c25-b0db-f0ffeece0c84",
   "metadata": {},
   "source": [
    "### Import the necessary libraries"
   ]
  },
  {
   "cell_type": "code",
   "execution_count": 3,
   "id": "e3da0f55-b694-405c-b172-942f6a2e6286",
   "metadata": {},
   "outputs": [
    {
     "name": "stderr",
     "output_type": "stream",
     "text": [
      "2023-02-26 07:12:28.730622: I tensorflow/core/platform/cpu_feature_guard.cc:193] This TensorFlow binary is optimized with oneAPI Deep Neural Network Library (oneDNN) to use the following CPU instructions in performance-critical operations:  AVX2 AVX512F AVX512_VNNI FMA\n",
      "To enable them in other operations, rebuild TensorFlow with the appropriate compiler flags.\n",
      "2023-02-26 07:12:29.100588: I tensorflow/core/util/util.cc:169] oneDNN custom operations are on. You may see slightly different numerical results due to floating-point round-off errors from different computation orders. To turn them off, set the environment variable `TF_ENABLE_ONEDNN_OPTS=0`.\n",
      "2023-02-26 07:12:29.238248: E tensorflow/stream_executor/cuda/cuda_blas.cc:2981] Unable to register cuBLAS factory: Attempting to register factory for plugin cuBLAS when one has already been registered\n",
      "2023-02-26 07:12:30.129586: W tensorflow/stream_executor/platform/default/dso_loader.cc:64] Could not load dynamic library 'libnvinfer.so.7'; dlerror: libnvinfer.so.7: cannot open shared object file: No such file or directory\n",
      "2023-02-26 07:12:30.129635: W tensorflow/stream_executor/platform/default/dso_loader.cc:64] Could not load dynamic library 'libnvinfer_plugin.so.7'; dlerror: libnvinfer_plugin.so.7: cannot open shared object file: No such file or directory\n",
      "2023-02-26 07:12:30.129639: W tensorflow/compiler/tf2tensorrt/utils/py_utils.cc:38] TF-TRT Warning: Cannot dlopen some TensorRT libraries. If you would like to use Nvidia GPU with TensorRT, please make sure the missing libraries mentioned above are installed properly.\n"
     ]
    }
   ],
   "source": [
    "import os\n",
    "import pickle\n",
    "import numpy as np\n",
    "from tensorflow import keras\n",
    "from keras import layers\n",
    "from keras.models import Model\n",
    "from keras.layers import Conv2D, MaxPooling2D, Dropout, Flatten, Dense, Input, Softmax\n",
    "from keras.callbacks import EarlyStopping\n",
    "from keras.optimizers import Adam\n",
    "from keras.losses import SparseCategoricalCrossentropy\n",
    "#from keras.datasets import gtsrb\n",
    "import tensorflow as tf\n",
    "import numpy as np\n"
   ]
  },
  {
   "cell_type": "code",
   "execution_count": 1,
   "id": "7427c1cf-15fb-44e6-a1ba-b56db2a818ee",
   "metadata": {},
   "outputs": [],
   "source": [
    "# Define the path to the dataset directory\n",
    "dataset_dir = \"/home/bakary/Desktop/My_GitHub/Defensive_distillation/Defensive-Distillation-as-an-Adversarial-Roustness-Algorithm/traffic-signs-data/\"\n",
    "\n",
    "# Load the training set\n",
    "with open(os.path.join(dataset_dir, \"train.p\"), \"rb\") as f:\n",
    "    train_data = pickle.load(f)\n",
    "\n",
    "x_train, y_train = train_data[\"features\"], train_data[\"labels\"]\n",
    "\n",
    "# Load the testing set\n",
    "with open(os.path.join(dataset_dir, \"test.p\"), \"rb\") as f:\n",
    "    test_data = pickle.load(f)\n",
    "\n",
    "x_test, y_test = test_data[\"features\"], test_data[\"labels\"]"
   ]
  },
  {
   "cell_type": "code",
   "execution_count": 2,
   "id": "2fbd1744-598d-448e-8c53-0d0f0e5ec943",
   "metadata": {},
   "outputs": [
    {
     "data": {
      "text/plain": [
       "((12630, 32, 32, 3), (12630,), (34799, 32, 32, 3), (34799,))"
      ]
     },
     "execution_count": 2,
     "metadata": {},
     "output_type": "execute_result"
    }
   ],
   "source": [
    "x_test.shape, y_test.shape, x_train.shape, y_train.shape"
   ]
  },
  {
   "cell_type": "markdown",
   "id": "830f9b54-40c1-4dea-a0b4-629aa4f1417d",
   "metadata": {},
   "source": [
    "### Define the teacher model"
   ]
  },
  {
   "cell_type": "code",
   "execution_count": 4,
   "id": "34450624-3779-44fa-bfe6-4ec416e6792c",
   "metadata": {},
   "outputs": [
    {
     "name": "stderr",
     "output_type": "stream",
     "text": [
      "2023-02-26 07:12:40.607969: E tensorflow/stream_executor/cuda/cuda_driver.cc:265] failed call to cuInit: CUDA_ERROR_NO_DEVICE: no CUDA-capable device is detected\n",
      "2023-02-26 07:12:40.608021: I tensorflow/stream_executor/cuda/cuda_diagnostics.cc:156] kernel driver does not appear to be running on this host (bakary-Allahu-Akbar): /proc/driver/nvidia/version does not exist\n",
      "2023-02-26 07:12:40.609127: I tensorflow/core/platform/cpu_feature_guard.cc:193] This TensorFlow binary is optimized with oneAPI Deep Neural Network Library (oneDNN) to use the following CPU instructions in performance-critical operations:  AVX2 AVX512F AVX512_VNNI FMA\n",
      "To enable them in other operations, rebuild TensorFlow with the appropriate compiler flags.\n"
     ]
    }
   ],
   "source": [
    "# The Teacher mode\n",
    "teacher_model = tf.keras.Sequential([\n",
    "    layers.Conv2D(32, (3, 3), activation='relu', input_shape=(32, 32, 3)),\n",
    "    layers.MaxPooling2D((2, 2)),\n",
    "    layers.Conv2D(64, (3, 3), activation='relu'),\n",
    "    layers.MaxPooling2D((2, 2)),\n",
    "    layers.Flatten(),\n",
    "    layers.Dense(128, activation='relu'),\n",
    "    layers.Dense(43)\n",
    "])\n"
   ]
  },
  {
   "cell_type": "markdown",
   "id": "fbee5bce-ed6f-43ae-8393-d2be4240d68a",
   "metadata": {},
   "source": [
    "### Define the defensive distillation function"
   ]
  },
  {
   "cell_type": "code",
   "execution_count": 5,
   "id": "1592b802-294c-42c8-a6e5-cb96356c7c27",
   "metadata": {},
   "outputs": [],
   "source": [
    "# Define a defensive distillation function\n",
    "\n",
    "def defensive_distillation(X, y, T=5, alpha=0.1):\n",
    "    \"\"\"\n",
    "    Generate a distilled dataset using defensive distillation\n",
    "    \"\"\"\n",
    "    logits = teacher_model(X) / T\n",
    "    labels = tf.math.softmax(logits)\n",
    "    labels_distilled = tf.math.pow(labels, 1 / alpha)\n",
    "    labels_distilled = labels_distilled / tf.math.reduce_sum(labels_distilled, axis=1, keepdims=True)\n",
    "    return X, labels_distilled"
   ]
  },
  {
   "cell_type": "markdown",
   "id": "931da9d7-cca2-4ea2-a4a8-991663e57b84",
   "metadata": {},
   "source": [
    "### Train the teacher model on the original dataset"
   ]
  },
  {
   "cell_type": "code",
   "execution_count": 6,
   "id": "5c075547-00f7-4554-9cce-43047b35299e",
   "metadata": {},
   "outputs": [
    {
     "name": "stdout",
     "output_type": "stream",
     "text": [
      "Epoch 1/10\n",
      "1088/1088 [==============================] - 8s 7ms/step - loss: 1.1698 - accuracy: 0.7878\n",
      "Epoch 2/10\n",
      "1088/1088 [==============================] - 7s 7ms/step - loss: 0.1945 - accuracy: 0.9511\n",
      "Epoch 3/10\n",
      "1088/1088 [==============================] - 7s 6ms/step - loss: 0.1327 - accuracy: 0.9678\n",
      "Epoch 4/10\n",
      "1088/1088 [==============================] - 7s 6ms/step - loss: 0.1169 - accuracy: 0.9717\n",
      "Epoch 5/10\n",
      "1088/1088 [==============================] - 7s 7ms/step - loss: 0.1001 - accuracy: 0.9746\n",
      "Epoch 6/10\n",
      "1088/1088 [==============================] - 7s 7ms/step - loss: 0.0942 - accuracy: 0.9775\n",
      "Epoch 7/10\n",
      "1088/1088 [==============================] - 7s 7ms/step - loss: 0.0783 - accuracy: 0.9809\n",
      "Epoch 8/10\n",
      "1088/1088 [==============================] - 7s 7ms/step - loss: 0.0759 - accuracy: 0.9833\n",
      "Epoch 9/10\n",
      "1088/1088 [==============================] - 8s 7ms/step - loss: 0.0667 - accuracy: 0.9848\n",
      "Epoch 10/10\n",
      "1088/1088 [==============================] - 8s 7ms/step - loss: 0.0757 - accuracy: 0.9843\n"
     ]
    },
    {
     "data": {
      "text/plain": [
       "<keras.callbacks.History at 0x7fa8e4350100>"
      ]
     },
     "execution_count": 6,
     "metadata": {},
     "output_type": "execute_result"
    }
   ],
   "source": [
    "# Train the teach model on the original dataset\n",
    "teacher_model.compile(optimizer='adam',\n",
    "              loss=tf.keras.losses.SparseCategoricalCrossentropy(from_logits=True),\n",
    "              metrics=['accuracy'])\n",
    "\n",
    "teacher_model.fit(x_train, y_train, epochs=10)"
   ]
  },
  {
   "cell_type": "markdown",
   "id": "16c601a4-d516-4c36-894b-875e28c1e98c",
   "metadata": {},
   "source": [
    "### Generate a distilled dataset using defensive distillation"
   ]
  },
  {
   "cell_type": "code",
   "execution_count": null,
   "id": "8b84a3a3-70fe-49b4-8911-2b3f0212c95c",
   "metadata": {},
   "outputs": [],
   "source": [
    "X_train_distilled, y_train_distilled = defensive_distillation(x_train, y_train)"
   ]
  },
  {
   "cell_type": "markdown",
   "id": "b63863b6-5de3-400d-a127-861147c3bd24",
   "metadata": {},
   "source": [
    "### Define the student model"
   ]
  },
  {
   "cell_type": "code",
   "execution_count": null,
   "id": "877014e4-a768-4e6a-9a83-f8b6081bbeb1",
   "metadata": {},
   "outputs": [],
   "source": [
    "# Define the student model\n",
    "\n",
    "student_model = tf.keras.Sequential([\n",
    "    layers.Conv2D(32, (3, 3), activation='relu', input_shape=(32, 32, 3)),\n",
    "    layers.MaxPooling2D((2, 2)),\n",
    "    layers.Conv2D(64, (3, 3), activation='relu'),\n",
    "    layers.MaxPooling2D((2, 2)),\n",
    "    layers.Flatten(),\n",
    "    layers.Dense(128, activation='relu'),\n",
    "    layers.Dense(43)\n",
    "])"
   ]
  },
  {
   "cell_type": "markdown",
   "id": "5ac8ba8b-20b6-4a4c-bfe7-186728fe1003",
   "metadata": {},
   "source": [
    "### Train a Student model on the distilled dataset\n",
    "\n",
    "\n",
    "#### Student_model = \"model_distilled\""
   ]
  },
  {
   "cell_type": "code",
   "execution_count": null,
   "id": "291aa208-a5fb-4dc1-9a07-e871e8a3c41e",
   "metadata": {},
   "outputs": [],
   "source": [
    "student_model.compile(optimizer='adam',\n",
    "                        loss=tf.keras.losses.SparseCategoricalCrossentropy(from_logits=True),\n",
    "                        metrics=['accuracy'])\n",
    "\n",
    "student_model.fit(X_train_distilled, y_train_distilled, epochs=10)"
   ]
  },
  {
   "cell_type": "markdown",
   "id": "2c1dc0cf",
   "metadata": {},
   "source": [
    "### Generate ensemble adversarial examples"
   ]
  },
  {
   "cell_type": "code",
   "execution_count": null,
   "id": "f77058a2",
   "metadata": {},
   "outputs": [],
   "source": [
    "#%%\n",
    "# Define the path to the dataset directory\n",
    "dataset_dir = \"/home/bakary/Desktop/My_GitHub/Defensive_distillation/Defensive-Distillation-as-an-Adversarial-Roustness-Algorithm/traffic-signs-data/\"\n",
    "\n",
    "\n",
    "\n",
    "# Load the testing set\n",
    "with open(os.path.join(dataset_dir, \"test.p\"), \"rb\") as f:\n",
    "    test_data = pickle.load(f)\n",
    "\n",
    "x_test, y_test = test_data[\"features\"], test_data[\"labels\"]\n",
    "\n",
    "\n",
    "\n",
    "# Define the epsilon values for the attacks\n",
    "epsilons = [0.01, 0.02, 0.03]\n",
    "\n",
    "\n",
    "\n",
    "# Define the FGSM attack function\n",
    "def fgsm_attack(model, x, y, epsilon):\n",
    "    \"\"\"\n",
    "    Fast Gradient Sign Method attack\n",
    "    \"\"\"\n",
    "    x_adv = tf.Variable(x)\n",
    "    with tf.GradientTape() as tape:\n",
    "        tape.watch(x_adv)\n",
    "        logits = model(x_adv)\n",
    "        loss = tf.keras.losses.sparse_categorical_crossentropy(y, logits)\n",
    "    gradients = tape.gradient(loss, x_adv)\n",
    "    perturbation = tf.sign(gradients)\n",
    "    x_adv = x_adv + epsilon*perturbation\n",
    "    x_adv = tf.clip_by_value(x_adv, 0, 1)\n",
    "    return x_adv.numpy()\n",
    "\n",
    "\n",
    "\n",
    "# Define the I-FGSM attack function\n",
    "def ifgsm_attack(model, x, y, epsilon, alpha=0.01, num_iter=10):\n",
    "    \"\"\"\n",
    "    Iterative Fast Gradient Sign Method attack\n",
    "    \"\"\"\n",
    "    x_adv = tf.Variable(x)\n",
    "    for i in range(num_iter):\n",
    "        with tf.GradientTape() as tape:\n",
    "            tape.watch(x_adv)\n",
    "            logits = model(x_adv)\n",
    "            loss = tf.keras.losses.sparse_categorical_crossentropy(y, logits)\n",
    "        gradients = tape.gradient(loss, x_adv)\n",
    "        perturbation = alpha*tf.sign(gradients)\n",
    "        x_adv = x_adv + perturbation\n",
    "        x_adv = tf.clip_by_value(x_adv, x-epsilon, x+epsilon)\n",
    "        x_adv = tf.clip_by_value(x_adv, 0, 1)\n",
    "    return x_adv.numpy()\n",
    "\n",
    "\n",
    "\n",
    "# Define the function to generate adversarial examples using an ensemble of attacks\n",
    "def generate_ensemble_adversarial(model, x, y, epsilons):\n",
    "    \"\"\"\n",
    "    Generate adversarial examples using an ensemble of FGSM and I-FGSM attacks\n",
    "    \"\"\"\n",
    "    x_adv = x.copy()\n",
    "    for epsilon in epsilons:\n",
    "        x_adv_fgsm = fgsm_attack(model, x_adv, y, epsilon)\n",
    "        x_adv_ifgsm = ifgsm_attack(model, x_adv, y, epsilon)\n",
    "        x_adv = (x_adv + x_adv_fgsm + x_adv_ifgsm) / 3.0\n",
    "    return x_adv\n",
    "\n",
    "\n",
    "\n",
    "# Generate adversarial examples using the ensemble of attacks\n",
    "x_adv = generate_ensemble_adversarial(student_model, x_test, y_test, epsilons)\n",
    "\n",
    "# Save the adversarial examples to your directory\n",
    "with open(os.path.join(dataset_dir, \"adversarial.p\"), \"wb\") as f:\n",
    "    pickle.dump({\"features\": x_adv, \"labels\": y_test}, f)\n",
    "\n"
   ]
  },
  {
   "cell_type": "code",
   "execution_count": null,
   "id": "1eaad07a",
   "metadata": {},
   "outputs": [],
   "source": []
  },
  {
   "cell_type": "markdown",
   "id": "990c3355-8745-44d9-a7c6-77fdcc8d2ae7",
   "metadata": {},
   "source": [
    "### Evaluate the model on the test dataset"
   ]
  },
  {
   "cell_type": "code",
   "execution_count": null,
   "id": "bb114456-e3f4-4a40-b8ef-97b4bc0af259",
   "metadata": {},
   "outputs": [],
   "source": [
    "student_model.evaluate(x_test, y_test)"
   ]
  },
  {
   "cell_type": "markdown",
   "id": "335cd6f2",
   "metadata": {},
   "source": [
    "### Evaluate the model with ensemble adversarial attacks."
   ]
  },
  {
   "cell_type": "code",
   "execution_count": null,
   "id": "282c3b3e",
   "metadata": {},
   "outputs": [],
   "source": [
    "# Define the path to the adversarial examples directory\n",
    "adv_examples_dir = \"/home/bakary/Desktop/My_GitHub/Defensive_distillation/Defensive-Distillation-as-an-Adversarial-Roustness-Algorithm/traffic-signs-data/\"\n",
    "\n",
    "# Load the adversarial examples\n",
    "with open(os.path.join(adv_examples_dir, \"adversarial.p\"), \"rb\") as f:\n",
    "    adversarial_data = pickle.load(f)\n",
    "\n",
    "x_adv, y_adv = adversarial_data[\"features\"], adversarial_data[\"labels\"]\n",
    "\n",
    "# Load the student model\n",
    "student_model = tf.keras.models.load_model(\"/home/bakary/Desktop/My_GitHub/Defensive_distillation/Defensive-Distillation-as-an-Adversarial-Roustness-Algorithm/model.h5\")\n",
    "\n",
    "# Evaluate the student model on the adversarial examples\n",
    "adv_loss, adv_acc = student_model.evaluate(x_adv, y_adv)\n",
    "\n",
    "print(\"Adversarial loss:\", adv_loss)\n",
    "print(\"Adversarial accuracy:\", adv_acc)"
   ]
  },
  {
   "cell_type": "code",
   "execution_count": null,
   "id": "6ecef795-8c08-41c6-9f42-bef6b6a26328",
   "metadata": {},
   "outputs": [],
   "source": []
  },
  {
   "cell_type": "code",
   "execution_count": null,
   "id": "9f576ba3-e4a8-4ccd-b373-c0c4445d8b99",
   "metadata": {},
   "outputs": [],
   "source": []
  },
  {
   "cell_type": "code",
   "execution_count": null,
   "id": "1962d2c3-3fc4-42d5-8852-1eafe515b69e",
   "metadata": {},
   "outputs": [],
   "source": []
  }
 ],
 "metadata": {
  "kernelspec": {
   "display_name": "Python 3 (ipykernel)",
   "language": "python",
   "name": "python3"
  },
  "language_info": {
   "codemirror_mode": {
    "name": "ipython",
    "version": 3
   },
   "file_extension": ".py",
   "mimetype": "text/x-python",
   "name": "python",
   "nbconvert_exporter": "python",
   "pygments_lexer": "ipython3",
   "version": "3.9.12"
  }
 },
 "nbformat": 4,
 "nbformat_minor": 5
}
